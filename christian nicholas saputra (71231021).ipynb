{
 "cells": [
  {
   "cell_type": "markdown",
   "id": "5f37b6f1",
   "metadata": {},
   "source": [
    "latihan mandiri 1"
   ]
  },
  {
   "cell_type": "code",
   "execution_count": null,
   "id": "d715ed73",
   "metadata": {},
   "outputs": [],
   "source": [
    "# daftar pilihan\n",
    "print(\"(ketik 1 untuk contoh 3.1)\")\n",
    "print(\"(ketik 2 untuk contoh 3.2)\")\n",
    "print(\"(ketik 3 untuk contoh 3.3)\")\n",
    "\n",
    "\n",
    "try:\n",
    "    # membuat input ke user\n",
    "    pilihan = int(input(\"masukan pilihan: \"))\n",
    "    \n",
    "    # pilihan 1\n",
    "    if pilihan == 1:\n",
    "        try:\n",
    "            ipk = float(input(\"masukan ipk anda: \"))\n",
    "            # jika ipk kurang dari 0\n",
    "            if ipk < 0:\n",
    "                print(\"masukan angka positif\")\n",
    "            # jika ipk lebih dari 4\n",
    "            elif ipk > 4:\n",
    "                print(\"ipk tidak bisa lebih dari 4\")\n",
    "            # jika ipk lebih dari 2.25 atau 2.25\n",
    "            elif ipk >= 2.25:\n",
    "                print(\"anda lullus\")\n",
    "            # selain cabang yang ada di atas\n",
    "            else:\n",
    "                print(\"anda tidak lulus\")\n",
    "            # mengganti error message\n",
    "        except ValueError:\n",
    "            print(\"input tidak valid!\")\n",
    "    \n",
    "    # pilihan 2\n",
    "    elif pilihan == 2:\n",
    "        try:\n",
    "            pembelian = int(input(\"masukan total harga pembelian anda: \"))\n",
    "            if pembelian < 0:\n",
    "                # jalankan jika pembelian kurang dari 0\n",
    "                print(\"tidak bisa memasukan angka negatif\")\n",
    "                \n",
    "            elif pembelian > 1000000:\n",
    "                diskon = 30/100 # diskon 30%\n",
    "                # harga setelah diskon\n",
    "                total = pembelian-(pembelian*diskon)\n",
    "                print(\"diskon 30% total pembelian anda: Rp.\", total)\n",
    "                \n",
    "            elif pembelian > 500000 and pembelian <= 1000000:\n",
    "                diskon = 20/100 # diskon 20%\n",
    "                # harga setelah diskon\n",
    "                total = pembelian-(pembelian*diskon)\n",
    "                print(\"diskon 20% total pembelian anda: Rp.\", total)\n",
    "                \n",
    "            elif pembelian >= 100000 and pembelian <= 500000:\n",
    "                diskon = 15/100 # diskon 15%\n",
    "                #harga setelah diskon\n",
    "                total = pembelian-(pembelian*diskon)\n",
    "                print(\"diskon 15% total pembelian anda: Rp.\", total)\n",
    "            else:\n",
    "                diskon = 0 # tidak ada diskon\n",
    "                print(\"total pembelian anda Rp.: \", pembelian)\n",
    "            # mengganti error message\n",
    "        except ValueError:\n",
    "            print(\"input tidak valid!\")\n",
    "    \n",
    "    # pilihan 3 \n",
    "    elif pilihan == 3:\n",
    "        # input user\n",
    "        usia = int(input(\"Masukkan usia anda: \"))\n",
    "        try:\n",
    "            if usia < 0:\n",
    "                # jalankan jika usia kurang dari 0\n",
    "                print(\"masukan angka positif\")\n",
    "            elif usia <= 5:\n",
    "                # jalankan jika usia kurang dari 5\n",
    "                print(\"Balita\")\n",
    "            elif usia >= 6 and usia <= 11:\n",
    "                # jalankan jika usia termasuk dari 6 - 11\n",
    "                print(\"Kanak-kanak\")\n",
    "            elif usia >=12 and usia <= 25:\n",
    "                # jalankan jika usia termasuk dari 12 - 25\n",
    "                print(\"Remaja\")\n",
    "            elif usia >= 26 and usia <= 45:\n",
    "                # jalankan jika usia termasuk dari  26-45\n",
    "                print(\"Dewasa\")\n",
    "            elif usia > 45:\n",
    "                # jalankan jika usia lebih dari 45\n",
    "                print(\"Lansia\")\n",
    "            # mengganti error message\n",
    "        except ValueError:\n",
    "            print(\"input tidak valid\")\n",
    "    else:\n",
    "        print(\"Error!\")\n",
    "    # mengganti error message\n",
    "except ValueError:\n",
    "    print(\"masukan pilihan dengan benar!\")"
   ]
  },
  {
   "cell_type": "markdown",
   "id": "b514eb47",
   "metadata": {},
   "source": [
    "latihan mandiri 2"
   ]
  },
  {
   "cell_type": "code",
   "execution_count": 9,
   "id": "0ad8f5df",
   "metadata": {},
   "outputs": [
    {
     "name": "stdout",
     "output_type": "stream",
     "text": [
      "negatif\n"
     ]
    }
   ],
   "source": [
    "# latihan mandiri 2\n",
    "\n",
    "try:\n",
    "    # input \n",
    "    angka = int(input(\"masukan usia anda: \"))\n",
    "    # ternary operator\n",
    "    print(\"positif\") if angka > 0 else print(\"negatif\") if angka < 0 else print(\"nol\")\n",
    "\n",
    "# pengganti error message\n",
    "except ValueError:\n",
    "    print(\"input tidak valid!, masukan angka bulat positif\")"
   ]
  },
  {
   "cell_type": "markdown",
   "id": "79761743",
   "metadata": {},
   "source": [
    "latihan mandiri 3"
   ]
  },
  {
   "cell_type": "code",
   "execution_count": null,
   "id": "0da2a9f6",
   "metadata": {},
   "outputs": [],
   "source": [
    "#latihan mandiri 3\n",
    "\n",
    "# fungsi untuk menerapkan logika\n",
    "def pencari_jumlah_hari(bulan):\n",
    "# jika user memasukan nilai negatif\n",
    "    if bulan < 0:\n",
    "        print(\"masukan angka positif\")\n",
    "# jika user memasukan nilai lebih dari desember(12)\n",
    "    elif bulan > 12:\n",
    "        print(\"masukan bulan dari januari sampai desember (1 - 12)\")\n",
    "# karena satu-satunya bulan yang 29 hari hanya februari jadi cabang 2 disendirikan\n",
    "    elif bulan == 2:\n",
    "        print(\"jumlah hari pada bulan 2 adalah: 29 hari\")\n",
    "# pilih salah sati dari dalam kurung maka true\n",
    "    elif bulan == (4 or 6 or 9 or 11):\n",
    "        print(\"jumlah hari pada\", bulan,\"adalah: 30 hari\")\n",
    "# selain dari yang di atas jalankan code dibawah\n",
    "    else:\n",
    "        print(\"jumlah hari pada bulan\", bulan,\"adalah: 31 hari\")\n",
    "\n",
    "\n",
    "# fungsi untuk memberi input untuk user\n",
    "def main():\n",
    "    # menggunakan exception handling\n",
    "        try:\n",
    "            # input\n",
    "            bulan = int(input(\"masukan bulan: \"))\n",
    "            # output\n",
    "            pencari_jumlah_hari(bulan)\n",
    "            return bulan\n",
    "            # jika user memasukan nilai selain interger\n",
    "        except ValueError:\n",
    "            print(\"input tidak valid!\")\n",
    "            \n",
    "if __name__ == \"__main__\":\n",
    "    main()"
   ]
  },
  {
   "cell_type": "markdown",
   "id": "79746d90",
   "metadata": {},
   "source": [
    "latihan mandiri 4"
   ]
  },
  {
   "cell_type": "code",
   "execution_count": 1,
   "id": "cc5ce31f",
   "metadata": {},
   "outputs": [
    {
     "name": "stdout",
     "output_type": "stream",
     "text": [
      "semua sisi sama\n"
     ]
    }
   ],
   "source": [
    "# latihan mandiri 4\n",
    "\n",
    "# fungsi untuk menerapkan logic\n",
    "def mencari_sisi_sama(sisi1, sisi2, sisi3):\n",
    "    # membandingkan apakah sisi satu dengan yang lainya sama\n",
    "    if sisi1 == sisi2 == sisi3:\n",
    "        print(\"semua sisi sama\")\n",
    "    # kondisi ketika hanya 2 saja sisi yang sama\n",
    "    elif sisi1 == sisi2 or sisi1 == sisi3 or sisi2 == sisi3:\n",
    "        print(\"2 sisi sama\")\n",
    "    # selain kondisi yang ada di atas jalankan code di bawah\n",
    "    else:\n",
    "        print(\"tidak ada yang sama\")\n",
    "\n",
    "# fungsi untuk membuat input untuk user\n",
    "def main():\n",
    "    # gunakan try untuk mengganti error message\n",
    "        try:\n",
    "            sisi1 = float(input(\"masukan sisi 1:\")) # input\n",
    "            sisi2 = float(input(\"masukan sisi 2:\")) # input\n",
    "            sisi3 = float(input(\"masukan sisi 3:\")) # input\n",
    "            \n",
    "            # jika input bernilai negatif\n",
    "            if sisi1 <=0 or sisi2<=0 or sisi3<=0:\n",
    "                print(\"masukan bilangan positif\")\n",
    "            # selain dari kondisi di atas\n",
    "            else: \n",
    "                return sisi1,sisi2,sisi3\n",
    "        # mengganti error message\n",
    "        except ValueError:\n",
    "            print(\"input tidak valid masukan angka\")\n",
    "#ambil variabel fungsi\n",
    "sisi1,sisi2,sisi3 = main()\n",
    "# jalankan fungsi\n",
    "mencari_sisi_sama(sisi1,sisi2,sisi3)"
   ]
  }
 ],
 "metadata": {
  "kernelspec": {
   "display_name": "Python 3",
   "language": "python",
   "name": "python3"
  },
  "language_info": {
   "codemirror_mode": {
    "name": "ipython",
    "version": 3
   },
   "file_extension": ".py",
   "mimetype": "text/x-python",
   "name": "python",
   "nbconvert_exporter": "python",
   "pygments_lexer": "ipython3",
   "version": "3.12.1"
  }
 },
 "nbformat": 4,
 "nbformat_minor": 5
}
